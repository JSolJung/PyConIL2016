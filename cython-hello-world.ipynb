{
 "cells": [
  {
   "cell_type": "markdown",
   "metadata": {},
   "source": [
    "# Cython\n",
    "\n",
    "- Install Cython: `conda install Cython` or `pip install Cython`.\n",
    "\n",
    "### On Windows:\n",
    "\n",
    "- Install MS Visual Studio - for Python 3.5 (see [reference for other versions](https://blog.ionelmc.ro/2014/12/21/compiling-python-extensions-on-windows/), downaload [Visual Studio 2015](https://www.visualstudio.com/downloads/download-visual-studio-vs) (the community version in good enough). You can do a custom install and select only the the C++ Visual Studio and the Python Tools.\n",
    "- Add `C:\\Program Files (x86)\\Microsoft Visual Studio 14.0\\VC` (or if it doesn't exist, whatever `%VCINSTALLDIR%` points to) to your `PATH` environment variable (or else, you should run `C:\\Program Files (x86)\\Microsoft Visual Studio 14.0\\VC\\vcvarsall.bat` in the command line console before starting the notebook server (`jupyter notebook`).\n",
    "- Run the following cells to make sure Cython is installed and the environment is properly configured to build Cython extensions.\n",
    "\n",
    "### On Linux/OSX: \n",
    "\n",
    "- Check if `gcc` is installed and in the `PATH` by running `gcc --version`.\n",
    "- If `gcc` is not found, install it by:\n",
    "    - On Ubuntu/Debian run `sudo apt-get install build-essential`.\n",
    "    - On CentOS run `sudo yum group install \"Development Tools\"`.\n",
    "    - On OSX refer to [these instructions](https://github.com/kennethreitz/osx-gcc-installer)."
   ]
  },
  {
   "cell_type": "code",
   "execution_count": 1,
   "metadata": {
    "collapsed": false
   },
   "outputs": [
    {
     "name": "stdout",
     "output_type": "stream",
     "text": [
      "Cython 0.24\n"
     ]
    }
   ],
   "source": [
    "import Cython\n",
    "print(\"Cython\", Cython.__version__)"
   ]
  },
  {
   "cell_type": "code",
   "execution_count": 2,
   "metadata": {
    "collapsed": false
   },
   "outputs": [],
   "source": [
    "%load_ext cython"
   ]
  },
  {
   "cell_type": "code",
   "execution_count": 3,
   "metadata": {
    "collapsed": false
   },
   "outputs": [
    {
     "name": "stdout",
     "output_type": "stream",
     "text": [
      "hi\n"
     ]
    }
   ],
   "source": [
    "%%cython\n",
    "print('hi')"
   ]
  },
  {
   "cell_type": "code",
   "execution_count": 4,
   "metadata": {
    "collapsed": false
   },
   "outputs": [],
   "source": [
    "%%cython\n",
    "\n",
    "def sum(double[:] arr, int size):\n",
    "    cdef int i\n",
    "    cdef double s = 0\n",
    "    for i in range(size):\n",
    "        s += arr[i]\n",
    "    return s"
   ]
  },
  {
   "cell_type": "code",
   "execution_count": 5,
   "metadata": {
    "collapsed": false
   },
   "outputs": [],
   "source": [
    "import numpy as np\n",
    "arr = np.array([1.0, 3.0, 34.0])\n",
    "assert sum(arr, len(arr)) == 38"
   ]
  }
 ],
 "metadata": {
  "kernelspec": {
   "display_name": "PyConIL2016",
   "language": "python",
   "name": "pyconil2016"
  },
  "language_info": {
   "codemirror_mode": {
    "name": "ipython",
    "version": 3
   },
   "file_extension": ".py",
   "mimetype": "text/x-python",
   "name": "python",
   "nbconvert_exporter": "python",
   "pygments_lexer": "ipython3",
   "version": "3.5.1"
  }
 },
 "nbformat": 4,
 "nbformat_minor": 0
}
